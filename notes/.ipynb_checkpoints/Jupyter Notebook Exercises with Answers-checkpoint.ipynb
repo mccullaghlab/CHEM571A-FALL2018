{
 "cells": [
  {
   "cell_type": "code",
   "execution_count": 3,
   "metadata": {},
   "outputs": [],
   "source": [
    "# I typically start by loading in common libraries\n",
    "import numpy as np\n",
    "import matplotlib.pyplot as plt"
   ]
  },
  {
   "cell_type": "markdown",
   "metadata": {},
   "source": [
    "# Matrix manipulations"
   ]
  },
  {
   "cell_type": "markdown",
   "metadata": {},
   "source": [
    "&nbsp;&nbsp;&nbsp;&nbsp;1\\. Given the two matrices $ \\mathbf{A} =  \\begin{bmatrix} 2 & 4 & 1 & 2\\\\ 0 & 6 & 3.2 & 4.5 \\\\ 12.32 & -17.8 & 0.2 & -2.3\\end{bmatrix}$ and $ \\mathbf{B} = \\begin{bmatrix} -12.0 & -68.9 & 12.4 \\\\ -3.2 & 4.0 & -1.1 \\\\ 0.89 & -12 & -2.3 \\\\ 9 & 11 & -3.4\\end{bmatrix}$ compute the following:\n",
    "\n",
    "&nbsp;&nbsp;&nbsp;&nbsp;&nbsp;&nbsp;&nbsp;&nbsp;a. $\\mathbf{A}\\cdot\\mathbf{B}$\n",
    "\n",
    "&nbsp;&nbsp;&nbsp;&nbsp;&nbsp;&nbsp;&nbsp;&nbsp;b. $\\mathbf{B}\\cdot\\mathbf{A}$\n",
    "\n",
    "&nbsp;&nbsp;&nbsp;&nbsp;&nbsp;&nbsp;&nbsp;&nbsp;c. $\\mathbf{A}^T\\cdot\\mathbf{A}$\n",
    "\n",
    "&nbsp;&nbsp;&nbsp;&nbsp;&nbsp;&nbsp;&nbsp;&nbsp;d. $\\mathbf{A}\\cdot\\mathbf{A}^T$\n",
    "\n",
    "&nbsp;&nbsp;&nbsp;&nbsp;&nbsp;&nbsp;&nbsp;&nbsp;e. $\\mathbf{A}^T\\cdot\\mathbf{A} - \\mathbf{B}\\cdot\\mathbf{B}^T$\n"
   ]
  },
  {
   "cell_type": "code",
   "execution_count": 24,
   "metadata": {},
   "outputs": [
    {
     "name": "stdout",
     "output_type": "stream",
     "text": [
      "a. A*B =  [[ -17.91  -111.8     11.3  ]\n",
      " [  24.148   35.1    -29.26 ]\n",
      " [-111.402 -947.748  179.708]]\n",
      "a. A*B.shape = (3, 3)\n",
      "b. B*A =  [[ 128.768 -682.12  -230.    -362.57 ]\n",
      " [ -19.952   30.78     9.38    14.13 ]\n",
      " [ -26.556  -27.5    -37.97   -46.93 ]\n",
      " [ -23.888  162.52    43.52    75.32 ]]\n",
      "b. B*A.shape =  (4, 4)\n",
      "c. AT*A =  [[ 155.7824 -211.296     4.464   -24.336 ]\n",
      " [-211.296   368.84     19.64     75.94  ]\n",
      " [   4.464    19.64     11.28     15.94  ]\n",
      " [ -24.336    75.94     15.94     29.54  ]]\n",
      "c. AT*A.shape =  (4, 4)\n",
      "d. A*AT =  [[  25.       36.2     -50.96  ]\n",
      " [  36.2      66.49   -116.51  ]\n",
      " [ -50.96   -116.51    473.9524]]\n",
      "d. A*AT.shape =  (3, 3)\n",
      "e. AT*A - B*BT =  [[-4889.1876    39.544   -783.136    883.724 ]\n",
      " [   39.544    341.39      67.958     57.    ]\n",
      " [ -783.136     67.958   -138.8021   132.11  ]\n",
      " [  883.724     57.       132.11    -184.02  ]]\n",
      "e. AT*A - B*BT.shape =  (4, 4)\n"
     ]
    }
   ],
   "source": [
    "# start by simply entering the matrices\n",
    "\n",
    "A = np.matrix([[2,4,1,2],[0,6,3.2,4.5],[12.32,-17.8,0.2,-2.3]])\n",
    "B = np.matrix([[-12.0,-68.9,12.4],[-3.2,4.0,-1.1],[0.89,-12,-2.3],[9,11,-3.4]])\n",
    "\n",
    "# a. A*B\n",
    "C = np.dot(A,B)\n",
    "print \"a. A*B = \", C\n",
    "print \"a. A*B.shape =\", C.shape\n",
    "\n",
    "# b. B*A\n",
    "D = np.dot(B,A)\n",
    "print \"b. B*A = \", D\n",
    "print \"b. B*A.shape = \", D.shape\n",
    "\n",
    "# c. A^T*A\n",
    "E = np.dot(A.T,A)\n",
    "print \"c. AT*A = \", E\n",
    "print \"c. AT*A.shape = \", E.shape\n",
    "\n",
    "# d. A*A^T\n",
    "F = np.dot(A,A.T)\n",
    "print \"d. A*AT = \", F\n",
    "print \"d. A*AT.shape = \", F.shape\n",
    "\n",
    "# e. A^T*A - B*B^T\n",
    "G = np.dot(A.T,A) - np.dot(B,B.T)\n",
    "print \"e. AT*A - B*BT = \", G\n",
    "print \"e. AT*A - B*BT.shape = \", G.shape"
   ]
  },
  {
   "cell_type": "markdown",
   "metadata": {},
   "source": [
    "&nbsp;&nbsp;&nbsp;&nbsp;2\\. Using the same matrices as above compute the following:\n",
    "\n",
    "&nbsp;&nbsp;&nbsp;&nbsp;&nbsp;&nbsp;&nbsp;&nbsp;a. eigenvalues and eigenvectors of $\\mathbf{A}^T\\cdot\\mathbf{A}$\n",
    "\n",
    "&nbsp;&nbsp;&nbsp;&nbsp;&nbsp;&nbsp;&nbsp;&nbsp;b. eigenvalues and eigenvectors of $\\mathbf{A}\\cdot\\mathbf{A}^T$\n",
    "\n",
    "&nbsp;&nbsp;&nbsp;&nbsp;&nbsp;&nbsp;&nbsp;&nbsp;c. eigenvalues and eigenvectors of $\\mathbf{B}^T\\cdot\\mathbf{B}$"
   ]
  },
  {
   "cell_type": "code",
   "execution_count": 18,
   "metadata": {},
   "outputs": [
    {
     "name": "stdout",
     "output_type": "stream",
     "text": [
      "[  5.11968343e+02   5.01822799e+01   3.29177742e+00   2.37151456e-15]\n",
      "[[-0.51109736  0.64693911  0.5628855  -0.05838828]\n",
      " [ 0.84388074  0.2678479   0.44415306 -0.13729843]\n",
      " [ 0.03363046  0.43987858 -0.5486918  -0.71015008]\n",
      " [ 0.15973033  0.56234698 -0.4299131   0.68806019]]\n",
      "[ 511.96834273    3.29177742   50.18227985]\n",
      "[[-0.11961167 -0.82337219  0.55475335]\n",
      " [-0.26029796  0.56522618  0.78279265]\n",
      " [ 0.95809082  0.05077003  0.28192975]]\n",
      "[ 5344.37237856    78.10313218    13.58658926]\n",
      "[[-0.17714684 -0.9246492   0.33710957]\n",
      " [-0.96958277  0.22274519  0.10145852]\n",
      " [ 0.16890308  0.30888257  0.93598254]]\n"
     ]
    }
   ],
   "source": [
    "# for this we will use the eigenvalue function in numpy.  It is called using np.linalg.eig and returns eigenvalues and eigenvectors\n",
    "\n",
    "# for a.\n",
    "a_vals, a_vecs = np.linalg.eig(np.dot(A.T,A))\n",
    "print a_vals\n",
    "print a_vecs\n",
    "\n",
    "# for b.\n",
    "b_vals, b_vecs = np.linalg.eig(np.dot(A,A.T))\n",
    "print b_vals\n",
    "print b_vecs\n",
    "\n",
    "# for c.\n",
    "c_vals, c_vecs = np.linalg.eig(np.dot(B.T,B))\n",
    "print c_vals\n",
    "print c_vecs"
   ]
  },
  {
   "cell_type": "code",
   "execution_count": 23,
   "metadata": {},
   "outputs": [
    {
     "name": "stdout",
     "output_type": "stream",
     "text": [
      "[[  25.       36.2     -50.96  ]\n",
      " [  36.2      66.49   -116.51  ]\n",
      " [ -50.96   -116.51    473.9524]]\n",
      "[[  25.       36.2     -50.96  ]\n",
      " [  36.2      66.49   -116.51  ]\n",
      " [ -50.96   -116.51    473.9524]]\n"
     ]
    }
   ],
   "source": [
    "# let's check something\n",
    "print np.dot(A,A.T)\n",
    "val_mat = np.zeros((3,3),dtype=float)\n",
    "val_mat[0,0] = b_vals[0]\n",
    "val_mat[1,1] = b_vals[1]\n",
    "val_mat[2,2] = b_vals[2]\n",
    "print np.dot(b_vecs,np.dot(val_mat,b_vecs.T))"
   ]
  },
  {
   "cell_type": "markdown",
   "metadata": {},
   "source": [
    "# Plotting"
   ]
  },
  {
   "cell_type": "markdown",
   "metadata": {},
   "source": [
    "&nbsp;&nbsp;&nbsp;&nbsp;3\\. Make plots of the following functions (over domain $3.0<=x<=8.0$ and range $-4<=f(x)<=2.0$):\n",
    "\n",
    "&nbsp;&nbsp;&nbsp;&nbsp;&nbsp;&nbsp;&nbsp;&nbsp;a. $f(x) = 4(x-4)^2-4$\n",
    "\n",
    "&nbsp;&nbsp;&nbsp;&nbsp;&nbsp;&nbsp;&nbsp;&nbsp;b. $f(x) = 16.0\\left[\\left(\\frac{3.56}{x}\\right)^{12} - \\left(\\frac{3.56}{x}\\right)^{6} \\right]$\n",
    "\n",
    "&nbsp;&nbsp;&nbsp;&nbsp;&nbsp;&nbsp;&nbsp;&nbsp;c. $f(x) = 4.0\\left[1- e^{-(x-4)} \\right]^2-4$"
   ]
  },
  {
   "cell_type": "code",
   "execution_count": 53,
   "metadata": {},
   "outputs": [
    {
     "data": {
      "text/plain": [
       "<matplotlib.legend.Legend at 0x111d06b90>"
      ]
     },
     "execution_count": 53,
     "metadata": {},
     "output_type": "execute_result"
    },
    {
     "data": {
      "image/png": "[encoded data removed]",
      "text/plain": [
       "<matplotlib.figure.Figure at 0x111bfead0>"
      ]
     },
     "metadata": {},
     "output_type": "display_data"
    }
   ],
   "source": [
    "x=np.arange(3.0,8,0.1)\n",
    "plt.ylim(-4,2)\n",
    "plt.plot(x,4*(x-4)**2-4,label=\"harmonic\")\n",
    "plt.plot(x,16*( (3.56/x)**12 - (3.56/x)**6 ),label=\"LJ\")\n",
    "plt.plot(x,4*(1-np.exp(-(x-4)))**2-4,label=\"Morse\")\n",
    "plt.legend()"
   ]
  },
  {
   "cell_type": "code",
   "execution_count": null,
   "metadata": {},
   "outputs": [],
   "source": []
  }
 ],
 "metadata": {
  "kernelspec": {
   "display_name": "Python 2",
   "language": "python",
   "name": "python2"
  },
  "language_info": {
   "codemirror_mode": {
    "name": "ipython",
    "version": 2
   },
   "file_extension": ".py",
   "mimetype": "text/x-python",
   "name": "python",
   "nbconvert_exporter": "python",
   "pygments_lexer": "ipython2",
   "version": "2.7.14"
  }
 },
 "nbformat": 4,
 "nbformat_minor": 2
}
