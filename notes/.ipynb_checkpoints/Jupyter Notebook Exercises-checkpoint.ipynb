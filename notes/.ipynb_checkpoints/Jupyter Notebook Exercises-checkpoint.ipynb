{
 "cells": [
  {
   "cell_type": "code",
   "execution_count": 3,
   "metadata": {},
   "outputs": [],
   "source": [
    "# I typically start by loading in common libraries\n",
    "import numpy as np\n",
    "import matplotlib.pyplot as plt"
   ]
  },
  {
   "cell_type": "markdown",
   "metadata": {},
   "source": [
    "# Matrix manipulations"
   ]
  },
  {
   "cell_type": "markdown",
   "metadata": {},
   "source": [
    "&nbsp;&nbsp;&nbsp;&nbsp;1\\. Given the two matrices $ \\mathbf{A} =  \\begin{bmatrix} 2 & 4 & 1 & 2\\\\ 0 & 6 & 3.2 & 4.5 \\\\ 12.32 & -17.8 & 0.2 & -2.3\\end{bmatrix}$ and $ \\mathbf{B} = \\begin{bmatrix} -12.0 & -68.9 & 12.4 \\\\ -3.2 & 4.0 & -1.1 \\\\ 0.89 & -12 & -2.3 \\\\ 9 & 11 & -3.4\\end{bmatrix}$ compute the following:\n",
    "\n",
    "&nbsp;&nbsp;&nbsp;&nbsp;&nbsp;&nbsp;&nbsp;&nbsp;a. $\\mathbf{A}\\cdot\\mathbf{B}$\n",
    "\n",
    "&nbsp;&nbsp;&nbsp;&nbsp;&nbsp;&nbsp;&nbsp;&nbsp;b. $\\mathbf{B}\\cdot\\mathbf{A}$\n",
    "\n",
    "&nbsp;&nbsp;&nbsp;&nbsp;&nbsp;&nbsp;&nbsp;&nbsp;c. $\\mathbf{A}^T\\cdot\\mathbf{A}$\n",
    "\n",
    "&nbsp;&nbsp;&nbsp;&nbsp;&nbsp;&nbsp;&nbsp;&nbsp;d. $\\mathbf{A}\\cdot\\mathbf{A}^T$\n",
    "\n",
    "&nbsp;&nbsp;&nbsp;&nbsp;&nbsp;&nbsp;&nbsp;&nbsp;e. $\\mathbf{A}^T\\cdot\\mathbf{A} - \\mathbf{B}\\cdot\\mathbf{B}^T$\n"
   ]
  },
  {
   "cell_type": "code",
   "execution_count": null,
   "metadata": {},
   "outputs": [],
   "source": [
    "# code cell - write code in here to solve problem"
   ]
  },
  {
   "cell_type": "markdown",
   "metadata": {},
   "source": [
    "&nbsp;&nbsp;&nbsp;&nbsp;2\\. Using the same matrices as above compute the following:\n",
    "\n",
    "&nbsp;&nbsp;&nbsp;&nbsp;&nbsp;&nbsp;&nbsp;&nbsp;a. eigenvalues and eigenvectors of $\\mathbf{A}^T\\cdot\\mathbf{A}$\n",
    "\n",
    "&nbsp;&nbsp;&nbsp;&nbsp;&nbsp;&nbsp;&nbsp;&nbsp;b. eigenvalues and eigenvectors of $\\mathbf{A}\\cdot\\mathbf{A}^T$\n",
    "\n",
    "&nbsp;&nbsp;&nbsp;&nbsp;&nbsp;&nbsp;&nbsp;&nbsp;c. eigenvalues and eigenvectors of $\\mathbf{B}^T\\cdot\\mathbf{B}$"
   ]
  },
  {
   "cell_type": "code",
   "execution_count": null,
   "metadata": {},
   "outputs": [],
   "source": [
    "# code cell - write code in here to solve problem"
   ]
  },
  {
   "cell_type": "markdown",
   "metadata": {},
   "source": [
    "# Plotting"
   ]
  },
  {
   "cell_type": "markdown",
   "metadata": {},
   "source": [
    "&nbsp;&nbsp;&nbsp;&nbsp;3\\. Make plots of the following functions (over domain $3.0<=x<=8.0$ and range $-4<=f(x)<=2.0$):\n",
    "\n",
    "&nbsp;&nbsp;&nbsp;&nbsp;&nbsp;&nbsp;&nbsp;&nbsp;a. $f(x) = 4(x-4)^2-4$\n",
    "\n",
    "&nbsp;&nbsp;&nbsp;&nbsp;&nbsp;&nbsp;&nbsp;&nbsp;b. $f(x) = 16.0\\left[\\left(\\frac{3.56}{x}\\right)^{12} - \\left(\\frac{3.56}{x}\\right)^{6} \\right]$\n",
    "\n",
    "&nbsp;&nbsp;&nbsp;&nbsp;&nbsp;&nbsp;&nbsp;&nbsp;c. $f(x) = 4.0\\left[1- e^{-(x-4)} \\right]^2-4$"
   ]
  },
  {
   "cell_type": "code",
   "execution_count": 1,
   "metadata": {},
   "outputs": [],
   "source": [
    "# code cell - write code in here to plot above functions"
   ]
  },
  {
   "cell_type": "code",
   "execution_count": null,
   "metadata": {},
   "outputs": [],
   "source": []
  }
 ],
 "metadata": {
  "kernelspec": {
   "display_name": "Python 2",
   "language": "python",
   "name": "python2"
  },
  "language_info": {
   "codemirror_mode": {
    "name": "ipython",
    "version": 2
   },
   "file_extension": ".py",
   "mimetype": "text/x-python",
   "name": "python",
   "nbconvert_exporter": "python",
   "pygments_lexer": "ipython2",
   "version": "2.7.14"
  }
 },
 "nbformat": 4,
 "nbformat_minor": 2
}
