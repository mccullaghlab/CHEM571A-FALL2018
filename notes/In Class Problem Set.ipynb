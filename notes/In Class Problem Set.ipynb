{
 "cells": [
  {
   "cell_type": "markdown",
   "metadata": {},
   "source": [
    "# \"Review\" of Variatonal Approach in Quantum Mechanics"
   ]
  },
  {
   "cell_type": "markdown",
   "metadata": {},
   "source": [
    "The variational method in quantum mechanics states that: given a Hamiltonian for a system, $\\hat{H}$, the expectation value of this operator for any function (trial wavefunction), $\\phi$, will be greater than that of the energy of the true ground state wavefunction, $\\psi_0$.  This can be stated mathematically as\n",
    "\n",
    "$\\langle E \\rangle_\\phi = \\frac{\\langle \\phi|\\hat{H}|\\phi\\rangle}{\\langle \\phi | \\phi \\rangle} \\geq E_0$\n",
    "\n",
    "where $E_0$ is the ground state energy of the Schrodinger equation\n",
    "\n",
    "$\\hat{H} \\psi_0 = E_0 \\psi_0$.\n",
    "\n",
    "This relationship allows us to express a trial wavefunction in terms of \"variational\" parameters and then minimnize the energy with respect to these parameters and still maintain the inequality above. "
   ]
  },
  {
   "cell_type": "markdown",
   "metadata": {},
   "source": [
    "## Variational Method for One Basis Function (due by 5pm Monday 10/8/18)"
   ]
  },
  {
   "cell_type": "markdown",
   "metadata": {},
   "source": [
    "1. What is the energy expectation value for the trial wavefunction, $\\phi(x) = c_0 e^{-\\alpha (x-x_0)^2}$, for a 1D harmonic oscillator ($\\hat{H} = \\hat{K} + \\hat{V} = -\\frac{\\hbar^2}{2m}\\frac{d^2}{dx^2} + \\frac{\\mu\\omega^2}{2}x^2$ :note that I have used $k = \\mu\\omega^2$)? \n",
    "\n",
    " 1. The goal is to derive an expression for $\\langle E \\rangle_\\phi$. Below I breakdown the problem and show the solutions for each component so that you can check your work.\n",
    "\n",
    "    a. $\\langle E \\rangle_\\phi = \\frac{\\langle \\phi|\\hat{H}|\\phi\\rangle}{\\langle \\phi | \\phi \\rangle} = \\frac{\\langle \\phi|\\hat{K}|\\phi\\rangle + \\langle \\phi|\\hat{V}|\\phi\\rangle}{\\langle \\phi | \\phi \\rangle}$\n",
    "\n",
    "    b. $\\langle \\phi| \\phi \\rangle = \\int_{-\\infty}^{\\infty} c_0 e^{-\\alpha (x-x_0)^2} c_0 e^{-\\alpha (x-x_0)^2} dx = c_0^2\\sqrt{\\frac{\\pi}{2\\alpha}}$\n",
    "\n",
    "    c. $\\langle \\phi|\\hat{K}|\\phi\\rangle = \\int_{-\\infty}^{\\infty} c_0 e^{-\\alpha (x-x_0)^2}\\left[ -\\frac{\\hbar^2}{2\\mu}\\frac{d^2}{dx^2} \\right]c_0 e^{-\\alpha (x-x_0)^2} dx = \\frac{c_0^2\\hbar^2\\alpha}{2\\mu}\\sqrt{\\frac{\\pi}{2\\alpha}} $\n",
    "\n",
    "    d. $ \\langle \\phi|\\hat{V}|\\phi\\rangle = \\int_{-\\infty}^{\\infty} c_0 e^{-\\alpha (x-x_0)^2}\\left[ \\frac{\\mu\\omega^2}{2}x^2 \\right]c_0 e^{-\\alpha (x-x_0)^2} dx = \\frac{c_0^2\\mu\\omega^2}{2}\\sqrt{\\frac{\\pi}{2\\alpha}}\\left[\\frac{1}{4\\alpha}+x_0^2\\right] $\n",
    "\n",
    "    e. $\\langle E \\rangle_\\phi = \\frac{\\hbar^2\\alpha}{2\\mu} + \\frac{\\mu\\omega^2}{2}\\left[\\frac{1}{4\\alpha} + x_0^2\\right] $\n",
    "\n",
    "2. Minimize $\\langle E \\rangle_\\phi$ with resepct to $\\alpha$ and show that this yields $\\alpha=\\frac{\\mu\\omega}{2\\hbar}$.  Note that this is applying the variational principle to our trial wavefunction (to non-linear coefficient $\\alpha$).  Also recognize that this is dictating the width of the gaussian basis function.\n",
    "\n",
    "3.  Minimize $\\langle E \\rangle_\\phi$ with resepct to $x_0$ and show that this yields $x_0=0$.  Note that this is applying the variational principle to our trial wavefunction (to non-linear coefficient $x_0$).\n",
    "\n",
    "4. Given all of the above, what is the variationally optimized wavefunction, $\\phi(x)$?  Have we determined $c_0$?  If so, what is it?  If not, how can we determine it?  \n",
    "\n",
    "5. Compare optimized $\\phi(x)$ and $\\langle E \\rangle_\\phi$ to the ground-state harmonic oscillator solutions."
   ]
  },
  {
   "cell_type": "markdown",
   "metadata": {},
   "source": [
    "## Variational Method for Two Basis Functions (due by 11:59pm Friday 10/12/18)"
   ]
  },
  {
   "cell_type": "markdown",
   "metadata": {},
   "source": [
    "1. Given the trial wavefunction, $\\phi(x) = c_0 e^{-\\alpha (x-x_0)^2}+c_1 e^{-\\alpha (x-x_1)^2}$, for a 1D harmonic oscillator what is the expectation value of the energy $\\langle E \\rangle_\\phi$?  You can write it in short hand by using notation such as $S_{ij}$ to denote the overlap integral between basis functions $i$ and $j$ and $H_{ij}$ to denote the integral of the Hamiltonian operating on basis funciton $j$ and integrated over $i$.  \n",
    "\n",
    "    a. $\\langle E \\rangle_\\phi = \\frac{\\langle \\phi|\\hat{H}|\\phi\\rangle}{\\langle \\phi | \\phi \\rangle} = \\frac{\\langle \\phi|\\hat{K}|\\phi\\rangle + \\langle \\phi|\\hat{V}|\\phi\\rangle}{\\langle \\phi | \\phi \\rangle}$\n",
    "\n",
    "    b. $\\langle \\phi| \\phi \\rangle = \\int_{-\\infty}^{\\infty} c_0 e^{-\\alpha (x-x_0)^2} c_0 e^{-\\alpha (x-x_0)^2} dx +2\\int_{-\\infty}^{\\infty} c_0 e^{-\\alpha (x-x_0)^2} c_1 e^{-\\alpha (x-x_1)^2} dx +  \\int_{-\\infty}^{\\infty} c_1 e^{-\\alpha (x-x_1)^2} c_1 e^{-\\alpha (x-x_1)^2} dx \\\\= \\sqrt{\\frac{\\pi} {2\\alpha}} \\left[c_0^2 + 2c_0c_1e^{-1/2\\alpha(x_0-x_1)^2} + c_1^2\\right] \\\\\n",
    "   = c_0^2\\langle0|0\\rangle + 2c_0c_1\\langle0|1\\rangle + c_1^2\\langle1|1\\rangle \\\\\n",
    "   = c_0^2S_{00} + 2c_0c_1S_{01} + c_1^2S_{11}$\n",
    "\n",
    "    c. $\\langle \\phi|\\hat{K}|\\phi\\rangle = \\int_{-\\infty}^{\\infty} c_0 e^{-\\alpha (x-x_0)^2}\\left[ -\\frac{\\hbar^2}{2\\mu}\\frac{d^2}{dx^2} \\right]c_0 e^{-\\alpha (x-x_0)^2} dx + \\int_{-\\infty}^{\\infty} c_0 e^{-\\alpha (x-x_0)^2}\\left[ -\\frac{\\hbar^2}{2\\mu}\\frac{d^2}{dx^2} \\right]c_1 e^{-\\alpha (x-x_1)^2} dx\\\\ + \\int_{-\\infty}^{\\infty} c_1 e^{-\\alpha (x-x_1)^2}\\left[ -\\frac{\\hbar^2}{2\\mu}\\frac{d^2}{dx^2} \\right]c_0 e^{-\\alpha (x-x_0)^2} dx  + \\int_{-\\infty}^{\\infty} c_1 e^{-\\alpha (x-x_1)^2}\\left[ -\\frac{\\hbar^2}{2\\mu}\\frac{d^2}{dx^2} \\right]c_1 e^{-\\alpha (x-x_1)^2} dx \\\\= \\frac{c_0^2\\hbar^2\\alpha}{2\\mu}\\sqrt{\\frac{\\pi}{2\\alpha}} +2\\frac{c_0c_1\\hbar^2}{2\\mu}e^{-1/2\\alpha(x_0-x_1)^2}\\sqrt{\\frac{\\pi}{2\\alpha}}\\left( \\alpha - \\alpha^2(x_0-x_1)^2\\right) + \\frac{c_1^2\\hbar^2\\alpha}{2\\mu}\\sqrt{\\frac{\\pi}{2\\alpha}}\\\\\n",
    "    = c_0^2K_{00} + 2c_0c_1K_{01} + c_1^2K_{11}$\n",
    "\n",
    "    d. $ \\langle \\phi|\\hat{V}|\\phi\\rangle = \\frac{\\mu\\omega^2}{2} \\left(\\int_{-\\infty}^{\\infty} c_0 e^{-\\alpha (x-x_0)^2}x^2c_0 e^{-\\alpha (x-x_0)^2} dx + 2\\int_{-\\infty}^{\\infty} c_0 e^{-\\alpha (x-x_0)^2}x^2c_1 e^{-\\alpha (x-x_1)^2} dx + \\\\\\int_{-\\infty}^{\\infty} c_1 e^{-\\alpha (x-x_1)^2}x^2 c_1 e^{-\\alpha (x-x_1)^2} dx\\right)\\\\= \\frac{\\mu\\omega^2}{2}\\sqrt{\\frac{\\pi}{2\\alpha}}\\left[ c_0^2\\left(\\frac{1}{4\\alpha}+x_0^2\\right) + \\frac{c_0c_1}{2}\\left( \\frac{1}{\\alpha}+(x_0+x_1)^2 \\right) + c_1^2\\left(\\frac{1}{4\\alpha}+x_1^2\\right)\\right] \\\\\n",
    "    = c_0^2V_{00} + 2c_0c_1V_{01} + c_1^2V_{11}$\n",
    "\n",
    "    e. $\\langle E \\rangle_\\phi = \\frac{c_0^2K_{00} + 2c_0c_1K_{01} + c_1^2K_{11} + c_0^2V_{00} + 2c_0c_1V_{01} + c_1^2V_{11} }{c_0^2S_{00} + 2c_0c_1S_{01} + c_1^2S_{11}} \\\\\n",
    "    = \\frac{c_0^2H_{00} + 2c_0c_1H_{01} + c_1^2H_{11}}{c_0^2S_{00} + 2c_0c_1S_{01} + c_1^2S_{11}} $\n",
    "    \n",
    "2. Determine the variational solutiong for $\\langle E \\rangle_\\phi$ with respect to variational parameters $c_0$ and $c_1$.  \n",
    "\n",
    "    a. It is common to first multiply out the expression for $\\langle E \\rangle_\\phi$ by $\\langle \\phi| \\phi \\rangle$ on both sides:\n",
    "    \n",
    "    $\\langle E \\rangle_\\phi \\left( c_0^2S_{00} + 2c_0c_1S_{01} + c_1^2S_{11} \\right) = c_0^2H_{00} + 2c_0c_1H_{01} + c_1^2H_{11} $\n",
    "    \n",
    "    Now take derivative of both sides of above equation w.r.t. $c_0$:\n",
    "    \n",
    "    $\\frac{\\partial\\langle E \\rangle_\\phi}{\\partial c_0} \\left( c_0^2S_{00} + 2c_0c_1S_{01} + c_1^2S_{11} \\right) + \\langle E \\rangle_\\phi\\left( 2c_0S_{00} + 2c_1S_{01} \\right) = 2c_0H_{00} + 2c_1H_{01}$\n",
    "    \n",
    "    Minimize $\\langle E \\rangle_\\phi$ w.r.t. $c_0$ by setting $\\frac{\\partial\\langle E \\rangle_\\phi}{\\partial c_0} = 0$ and then dividing both sides of resulting equation by two to get:\n",
    "    \n",
    "    $\\langle E \\rangle_\\phi\\left( c_0S_{00} + c_1S_{01} \\right) = c_0H_{00} + c_1H_{01}$\n",
    "    \n",
    "    Following the same procedure for $c_1$ yields the equation\n",
    "    \n",
    "    $\\langle E \\rangle_\\phi\\left( c_0S_{01} + c_1S_{11} \\right) = c_0H_{01} + c_1H_{11}$\n",
    "    \n",
    "    These two equations comprise a coupled set of linear equations that can be solved for $c_0$ and $c_1$.  You do this by requiring a non-trivial solution and solving a secular quadratic for $\\langle E \\rangle_\\phi$. \n",
    "    \n",
    "3. The coupled set of linear equations above can be rewritten in matrix notation\n",
    "    \n",
    "    $ \\langle E \\rangle_\\phi \\begin{bmatrix} S_{00} & S_{01} \\\\ S_{10} & S_{11} \\end{bmatrix} \\begin{bmatrix} c_0 \\\\ c_1 \\end{bmatrix} = \\begin{bmatrix} H_{00} & H_{01} \\\\ H_{10} & H_{11} \\end{bmatrix} \\begin{bmatrix} c_0 \\\\ c_1 \\end{bmatrix}$\n",
    "    \n",
    "    or\n",
    "    \n",
    "    $\\langle E \\rangle_\\phi \\mathbf{S}\\mathbf{c} = \\mathbf{H}\\mathbf{c}$\n",
    "    \n",
    "    where we have made use of $S_{01} = S_{10}$ and $H_{01} = H_{10}$.  Show that the procedure of solving the coupled set of linear equations is the same as diagonalizing $\\mathbf{S}^{-1}\\mathbf{H}$.\n",
    "    "
   ]
  },
  {
   "cell_type": "code",
   "execution_count": null,
   "metadata": {},
   "outputs": [],
   "source": []
  }
 ],
 "metadata": {
  "kernelspec": {
   "display_name": "Python 2",
   "language": "python",
   "name": "python2"
  },
  "language_info": {
   "codemirror_mode": {
    "name": "ipython",
    "version": 2
   },
   "file_extension": ".py",
   "mimetype": "text/x-python",
   "name": "python",
   "nbconvert_exporter": "python",
   "pygments_lexer": "ipython2",
   "version": "2.7.14"
  }
 },
 "nbformat": 4,
 "nbformat_minor": 2
}
