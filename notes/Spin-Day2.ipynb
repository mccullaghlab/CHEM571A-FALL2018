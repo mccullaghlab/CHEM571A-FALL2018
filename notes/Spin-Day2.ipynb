{
 "cells": [
  {
   "cell_type": "markdown",
   "metadata": {},
   "source": [
    "# Spin Day 2"
   ]
  },
  {
   "cell_type": "markdown",
   "metadata": {},
   "source": [
    "## Spin Wavefunctions for Electrons"
   ]
  },
  {
   "cell_type": "markdown",
   "metadata": {},
   "source": [
    "Quantum particles have intrinsic spin. Spin of particles is a strictly quantum mechanical concept.  There is no classical analog.  \n",
    "\n",
    "We will treat spin as completely independent of spatial dimensions.  Namely, we can express the wavefunction as\n",
    "\n",
    "$\\Psi(x,y,z,\\sigma) = \\psi(x,y,z)\\alpha(\\sigma)$\n",
    "\n",
    "or \n",
    "\n",
    "$\\Psi(x,y,z,\\sigma) = \\psi(x,y,z)\\beta(\\sigma)$,\n",
    "\n",
    "where $\\sigma$ is the *spin variable* and $\\alpha(\\sigma)$ and $\\beta(\\sigma)$ are the spin eigenfunctions.  In the case of electronic structure, $\\Psi(x,y,z,\\sigma)$ expressed in this way are referred to a *spin orbits*.  \n",
    "\n",
    "We define spin operators $\\hat{S}^2$ and $\\hat{S}_z$ that have eigenfunctions $\\alpha(\\sigma)$ and $\\beta(\\sigma)$ by\n",
    "\n",
    "$\\hat{S}^2\\alpha = \\frac{1}{2}\\left(\\frac{1}{2}+1\\right)\\hbar^2\\alpha$\n",
    "\n",
    "$\\hat{S}^2\\beta = \\frac{1}{2}\\left(\\frac{1}{2}+1\\right)\\hbar^2\\beta$\n",
    "\n",
    "and \n",
    "\n",
    "$\\hat{S}_z\\alpha = \\frac{1}{2}\\hbar\\alpha$\n",
    "\n",
    "$\\hat{S}_z\\beta = -\\frac{1}{2}\\hbar\\beta$."
   ]
  },
  {
   "cell_type": "markdown",
   "metadata": {},
   "source": [
    "Spin eigenfunctions have some important properties.   Firstly, they must be normalized\n",
    "\n",
    "$\\int\\alpha^*(\\sigma)\\alpha(\\sigma)d\\sigma = \\int\\beta^*(\\sigma)\\beta(\\sigma) d\\sigma = 1$.\n",
    "\n",
    "Secondly, they must be orthogonal\n",
    "\n",
    "$\\int\\alpha^*(\\sigma)\\beta(\\sigma)d\\sigma = \\int\\beta^*(\\sigma)\\alpha(\\sigma) d\\sigma = 0$."
   ]
  },
  {
   "cell_type": "markdown",
   "metadata": {},
   "source": [
    "Note that this formalism for spin does not negate previous results.  For Hamiltonians that do not include any interaction with $\\sigma$, it can be shown that the results are the same as previous. Let's investigate this for a partice in a box where\n",
    "\n",
    "$\\hat{H} = -\\frac{\\hbar^2}{2m}\\frac{d^2}{dx^2}$.\n",
    "\n",
    "Not that $\\hat{H}$ is independent of $\\sigma$.  Let's see how this operates on the combined spatial and spin wavefunction\n",
    "\n",
    "$\\Psi(x,\\sigma) = \\psi(x)\\alpha(\\sigma)$.  \n",
    "\n",
    "We now plug into the Schrodinger equation\n",
    "\n",
    "$-\\frac{\\hbar^2}{2m}\\frac{d^2}{dx^2}\\Psi(x,\\sigma) = E \\Psi(x,\\sigma) $\n",
    "\n",
    "$-\\frac{\\hbar^2}{2m}\\frac{d^2}{dx^2}\\psi(x)\\alpha(\\sigma) = E \\psi(x)\\alpha(\\sigma)$\n",
    "\n",
    "$ = -\\alpha(\\sigma)\\frac{\\hbar^2}{2m}\\frac{d^2}{dx^2}\\psi(x)$\n",
    "\n",
    "$\\Rightarrow -\\frac{\\hbar^2}{2m}\\frac{d^2}{dx^2}\\psi(x) = E\\psi(x)$.\n",
    "\n",
    "Similarly, for the general expectation value of an operator that does not depend on $\\alpha$, $\\hat{M}(x)$, we have\n",
    "\n",
    "$\\langle M(x) \\rangle = \\int \\Psi^*(x,\\sigma) \\hat{M}(x) \\Psi(x,\\sigma) dxd\\sigma $\n",
    "\n",
    "$ = \\int \\psi^*(x)\\alpha^*(\\sigma) \\hat{M}(x) \\psi(x)\\alpha(\\sigma)dxd\\sigma$\n",
    "\n",
    "$ = \\int \\psi^*(x) \\hat{M}(x) \\psi(x)dx\\int\\alpha^*(\\sigma)\\alpha(\\sigma)d\\sigma $\n",
    "\n",
    "$ = \\int \\psi^*(x) \\hat{M}(x) \\psi(x)dx$.\n",
    "\n",
    "The last equality holds due to $\\alpha(\\sigma)$ being normalized.  Note that you can substitute $\\beta$ in for $\\alpha$ and obtain the same result.  If you tried to compute the overlap between a spin orbit with $\\alpha$ and a spin orbit with $\\beta$ you would get zero.  "
   ]
  },
  {
   "cell_type": "markdown",
   "metadata": {},
   "source": [
    "## Pauli Exclusion Principle"
   ]
  },
  {
   "cell_type": "markdown",
   "metadata": {},
   "source": [
    "Recall from undergraduate physical and general chemistry the statement that two electrons cannot occupy the same spin-orbital.  This necessitates the use of a spin orbit.  As we know, two electrons can occupy the same spatial orbital but must have opposite spin.  For a hydrogen-like wavefunction description of a helium atom this can be described as\n",
    "\n",
    "$\\psi(1,2) = 1s\\alpha(1)1s\\beta(2)$,\n",
    "\n",
    "where $1s$ denotes the hydrogen-like 1s spatial orbital and $\\alpha(1)$ denotes the $\\alpha$ spin of electron 1 while $\\beta(2)$ denotes the $\\beta$ spin of electron 2.  Since electrons are indistinguishable, we could equivalently write\n",
    "\n",
    "$\\psi(2,1) = 1s\\alpha(2)1s\\beta(1)$.\n",
    "\n",
    "As we have seen so far, if we have two functions that seemingly obey the Schrodinger equation for a particular system, the complete solution should be a linear combination of these functions.  We can construct two linear combinations of these\n",
    "\n",
    "$\\Psi_1(1,2) = \\psi(1,2) + \\psi(2,1) = 1s\\alpha(1)1s\\beta(2) + 1s\\alpha(2)1s\\beta(1)$\n",
    "\n",
    "and \n",
    "\n",
    "$\\Psi_2(1,2) = \\psi(1,2) - \\psi(2,1) = 1s\\alpha(1)1s\\beta(2) - 1s\\alpha(2)1s\\beta(1)$.\n",
    "\n",
    "These two functions describe states in which there are two indistinguishable electrons.  Note that there is a distinct difference between these two in regards to the interchange of electrons\n",
    "\n",
    "$\\Psi_1(1,2) = \\Psi_1(2,1)$\n",
    "\n",
    "and \n",
    "\n",
    "$\\Psi_2(1,2) = -\\Psi_2(2,1)$.\n",
    "\n",
    "We say that $\\Psi_2$ is *antisymmetric* with respect to interchange of electrons.  This turns out to be the requirement for all electronic wavefunctions and is equivalent to the Pauli Exclusion principle.  "
   ]
  },
  {
   "cell_type": "markdown",
   "metadata": {},
   "source": [
    "**Postulate 6**\n",
    "\n",
    "*All electronic wavefunctions must be antisymmetric under the interchange of any two electrons*"
   ]
  },
  {
   "cell_type": "markdown",
   "metadata": {},
   "source": [
    "## Atomic Nuclei have Spin"
   ]
  },
  {
   "cell_type": "markdown",
   "metadata": {},
   "source": [
    "The charge of an electron coupled with its intrinsic spin (angular momentum) yield a magnetic dipole.  Atomic nuclei also have intrinsic spin angular momentum (designated $I$) and an associated magnetic moment.  Unlike electrons, nuclei are not restricted to have spin of $1/2$.  Nuclei such as $^{12}$C, $^{16}$O have spin 0 thus imparting no magnetic moment to these nuclei. $^1$H and $^{19}$F have spin $1/2$ giving them a magnetic moment.  The name Fermion is associated with particles of spin $1/2$.  Deuterons ($^2$H) and $^{14}$N have spin 1 which make them Bosons.  \n",
    "\n",
    "The spin eigenvalue equations for a spin 1/2 nuclei look very similar to those of electrons\n",
    "\n",
    "$\\hat{I}^2\\alpha = \\frac{1}{2}\\left( \\frac{1}{2} + 1 \\right)\\hbar^2\\alpha$\n",
    "\n",
    "$\\hat{I}^2\\beta = \\frac{1}{2}\\left( \\frac{1}{2} + 1 \\right)\\hbar^2\\beta$\n",
    "\n",
    "$\\hat{I}_z\\alpha = \\frac{1}{2}\\hbar\\alpha$\n",
    "\n",
    "$\\hat{I}_z\\beta = -\\frac{1}{2}\\hbar\\beta$.\n",
    "\n",
    "In general we write spin eigenfunctions as kets, $|I, m_I\\rangle$, with eigenvalue equations\n",
    "\n",
    "$\\hat{I}^2|I, m_I\\rangle = I(I+1)\\hbar^2|I, m_I\\rangle$\n",
    "\n",
    "and \n",
    "\n",
    "$\\hat{I}_z|I, m_I\\rangle = m_I\\hbar|I, m_I\\rangle$.\n"
   ]
  },
  {
   "cell_type": "markdown",
   "metadata": {},
   "source": [
    "The magnetic moment, $\\mu$, of a nucleus is given by\n",
    "\n",
    "$\\mu = g_N\\frac{q}{2m_N}\\mathbf{I} = g_N\\beta_N\\mathbf{I} = \\gamma\\mathbf{I}$,\n",
    "\n",
    "where $\\mathbf{I}$ is the spin angular momentum of the nucleus, $g_N$ is the nuclear g factor (nucleus dependent), $\\beta_N$ is the nuclear magneton, $m_N$ is the mass of the nucleus and $\\gamma = g_N\\beta_N$ is the magnetic ratio.  The interaction energy of a nucleus having magnetic moment $\\mu$ with a magnetic field $\\mathbf{B}$ is then given by\n",
    "\n",
    "$V = -\\mu\\cdot\\mathbf{B}$.\n",
    "\n",
    "If we take the magnetic field to be in the $z$ direction and plug in our quation for $mu$ we get\n",
    "\n",
    "$V = -\\gamma B_zI_z$.\n",
    "\n",
    "Thus the Hamiltonian for an isolated nucleus interacting with a magnetic field is\n",
    "\n",
    "$\\hat{H} = -\\gamma B_z \\hat{I}_z$.\n",
    "\n"
   ]
  },
  {
   "cell_type": "markdown",
   "metadata": {},
   "source": [
    "***Example: Show that the eigenvalues of the Schrodinger equation for the above Hamiltonian are $E = -\\hbar \\gamma m_IB_z$ for $m_I=I, I-1, ..., -I$.***"
   ]
  },
  {
   "cell_type": "code",
   "execution_count": null,
   "metadata": {},
   "outputs": [],
   "source": []
  }
 ],
 "metadata": {
  "kernelspec": {
   "display_name": "Python 2",
   "language": "python",
   "name": "python2"
  },
  "language_info": {
   "codemirror_mode": {
    "name": "ipython",
    "version": 2
   },
   "file_extension": ".py",
   "mimetype": "text/x-python",
   "name": "python",
   "nbconvert_exporter": "python",
   "pygments_lexer": "ipython2",
   "version": "2.7.14"
  }
 },
 "nbformat": 4,
 "nbformat_minor": 2
}
