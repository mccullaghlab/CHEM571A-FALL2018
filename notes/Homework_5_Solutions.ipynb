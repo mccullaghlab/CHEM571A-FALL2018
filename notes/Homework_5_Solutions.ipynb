{
 "cells": [
  {
   "cell_type": "markdown",
   "metadata": {},
   "source": [
    "# Variational Principle Review"
   ]
  },
  {
   "cell_type": "markdown",
   "metadata": {},
   "source": [
    "1. Design a basis set for a 1D particle in a box bounded between $0 \\leq x \\leq a$ that yields a Hermitian Hamiltonian in the variational solution.  What is the basis set?  Give the variational solution energies for 1, 2 and 3 basis functions in this basis.  "
   ]
  },
  {
   "cell_type": "markdown",
   "metadata": {},
   "source": [
    "## Problem 1."
   ]
  },
  {
   "cell_type": "markdown",
   "metadata": {},
   "source": [
    "An obvious basis set would be $\\{g_i\\}$ where\n",
    "\n",
    "$g_i(x) = \\sin(\\frac{i \\pi x}{a}) \\quad \\mathrm{for} \\quad i=1,2,...N$.\n",
    "\n",
    "This yields a trial wavefunction, $\\phi(x)$,\n",
    "\n",
    "$\\phi(x) = \\sum_{i=1}^N c_i \\sin(\\frac{i \\pi x}{a}) $.\n",
    "\n",
    "We must now evaluate matrix elements $S_{ij}$ and $H_{ij}$.  \n",
    "\n",
    "$S_{ij} = \\langle g_i|g_j \\rangle$\n",
    "\n",
    "$ = \\int_0^a \\sin(\\frac{i \\pi x}{a})\\sin(\\frac{j \\pi x}{a})dx$\n",
    "\n",
    "$ = \\frac{a}{2}\\delta_{i,j}$.  \n",
    "\n",
    "*** SHOW THIS!!!***"
   ]
  },
  {
   "cell_type": "code",
   "execution_count": 4,
   "metadata": {},
   "outputs": [
    {
     "name": "stdout",
     "output_type": "stream",
     "text": [
      "('S11=', 0.49999999999835504)\n",
      "('S12=', 6.579772469079778e-12)\n",
      "('S22=', 0.49999999999342032)\n",
      "('S13=', -4.9348139001464298e-12)\n",
      "('S23=', 1.9739168166927489e-11)\n",
      "('S33=', 0.49999999998519562)\n"
     ]
    }
   ],
   "source": [
    "# While you should prove this using analytic integration, you can also check this using numeric integration\n",
    "import numpy as np\n",
    "from scipy import integrate\n",
    "# set a=1\n",
    "a=1.0\n",
    "x=np.arange(0,a,0.0001)\n",
    "g1 = np.sin(np.pi*x/a)\n",
    "g2 = np.sin(2*np.pi*x/a)\n",
    "g3 = np.sin(3*np.pi*x/a)\n",
    "s11 = integrate.simps(g1*g1,x)\n",
    "s12 = integrate.simps(g1*g2,x)\n",
    "s22 = integrate.simps(g2*g2,x)\n",
    "s13 = integrate.simps(g1*g3,x)\n",
    "s23 = integrate.simps(g2*g3,x)\n",
    "s33 = integrate.simps(g3*g3,x)\n",
    "print(\"S11=\",s11)\n",
    "print(\"S12=\",s12)\n",
    "print(\"S22=\",s22)\n",
    "print(\"S13=\",s13)\n",
    "print(\"S23=\",s23)\n",
    "print(\"S33=\",s33)"
   ]
  },
  {
   "cell_type": "markdown",
   "metadata": {},
   "source": [
    "So your overlap matrix elements should be\n",
    "\n",
    "$S_{ij} = \\begin{cases} \\frac{a}{2}, i=j\\\\ 0, i\\neq j\\end{cases}$.\n",
    "\n",
    "This leads to a diagonal matrix:\n",
    "\n",
    "$\\mathbf{S} = \\begin{bmatrix} \\frac{a}{2} & 0 & 0 \\\\ 0 & \\frac{a}{2} & 0 \\\\ 0 & 0 & \\frac{a}{2} \\end{bmatrix} $"
   ]
  },
  {
   "cell_type": "code",
   "execution_count": 7,
   "metadata": {},
   "outputs": [
    {
     "name": "stdout",
     "output_type": "stream",
     "text": [
      "[[ 0.5  0.   0. ]\n",
      " [ 0.   0.5  0. ]\n",
      " [ 0.   0.   0.5]]\n",
      "[[ 2.  0.  0.]\n",
      " [ 0.  2.  0.]\n",
      " [ 0.  0.  2.]]\n"
     ]
    }
   ],
   "source": [
    "# populate and invert S\n",
    "a = 1.0\n",
    "S = np.zeros((3,3),dtype=np.float64)\n",
    "for i in range(3):\n",
    "    j = i\n",
    "    S[i,j] = a/2.0\n",
    "print S\n",
    "Sinv = np.linalg.inv(S)\n",
    "print Sinv"
   ]
  },
  {
   "cell_type": "markdown",
   "metadata": {},
   "source": [
    "Similarly, you should be able to show that the Hamiltonian matrix element is\n",
    "\n",
    "$H_{ij} = \\frac{h^2i^2}{16\\mu a}\\delta_{i,j}$."
   ]
  },
  {
   "cell_type": "code",
   "execution_count": 12,
   "metadata": {},
   "outputs": [
    {
     "name": "stdout",
     "output_type": "stream",
     "text": [
      "[[ 0.0625  0.      0.    ]\n",
      " [ 0.      0.25    0.    ]\n",
      " [ 0.      0.      0.5625]]\n"
     ]
    }
   ],
   "source": [
    "# populate Hamiltonian matrix\n",
    "h = 1.0\n",
    "mu = 1.0\n",
    "a = 1.0\n",
    "H = np.zeros((3,3),dtype=np.float64)\n",
    "for i in range(3):\n",
    "    j = i\n",
    "    H[i,j] = h**2*(i+1)**2/(16.0*mu*a)\n",
    "print H"
   ]
  },
  {
   "cell_type": "code",
   "execution_count": 14,
   "metadata": {},
   "outputs": [
    {
     "name": "stdout",
     "output_type": "stream",
     "text": [
      "[ 0.125  0.5    1.125]\n",
      "[[ 1.  0.  0.]\n",
      " [ 0.  1.  0.]\n",
      " [ 0.  0.  1.]]\n",
      "0.125\n"
     ]
    }
   ],
   "source": [
    "# compute and diagonalize S^{-1}H\n",
    "\n",
    "SinvH = np.dot(Sinv,H)\n",
    "e,v = np.linalg.eig(SinvH)\n",
    "print e\n",
    "print v\n",
    "print 1/8."
   ]
  },
  {
   "cell_type": "markdown",
   "metadata": {},
   "source": [
    "Thus, in the basis, we get\n",
    "\n",
    "$E_1 \\leq 0.125 \\frac{h^2}{\\mu a^2}$\n",
    "\n",
    "The analytic solution for $E_1$ is\n",
    "\n",
    "$E_1 = \\frac{\\pi^2\\hbar^2}{2a^2} = \\frac{h^2}{8a^2} = 0.125 \\frac{h^2}{a^2}$"
   ]
  },
  {
   "cell_type": "markdown",
   "metadata": {},
   "source": [
    "***NOTE:*** this solution is for three basis functions.  In this case, however, the solution will not change if you use one or two basis functions.  Why?"
   ]
  },
  {
   "cell_type": "markdown",
   "metadata": {},
   "source": [
    "# Normal Modes of CO$_2$"
   ]
  },
  {
   "cell_type": "code",
   "execution_count": 6,
   "metadata": {},
   "outputs": [
    {
     "name": "stdout",
     "output_type": "stream",
     "text": [
      "('Energy of initial positions:', 0.0)\n",
      "[             nan              nan   1.64260939e-05   1.08231241e-01\n",
      "   1.08231241e-01   6.70250894e+02   6.70250894e+02   1.23071676e+03\n",
      "   2.35664318e+03]\n"
     ]
    },
    {
     "name": "stderr",
     "output_type": "stream",
     "text": [
      "/Users/martinmccullagh/anaconda2/lib/python2.7/site-packages/ipykernel_launcher.py:65: RuntimeWarning: invalid value encountered in sqrt\n"
     ]
    }
   ],
   "source": [
    "from scipy.misc import derivative\n",
    "import numpy as np\n",
    "# paramters for classical potential\n",
    "kb = np.float64(8610.7/4.184) # kcal/mol/A^2\n",
    "kang = np.float64(468.61/4.184)  # kcal/mol/rad^2\n",
    "theta0 = np.float64(np.pi)\n",
    "x0 = np.float64(1.16)\n",
    "\n",
    "#def E(h1,o2,h3):\n",
    "#    return 0.5*k1*(np.sqrt(np.linalg.norm(o2-h1))-x0)**2+0.5*k1*(np.sqrt(np.linalg.norm(o2-h3))-x0)**2\n",
    "def E(x):\n",
    "    o1 = x[:3]\n",
    "    c2 = x[3:6]\n",
    "    o3 = x[6:9]\n",
    "    r21 = o1 - c2\n",
    "    r21Mag = np.float64(np.linalg.norm(r21))\n",
    "    r23 = o3 - c2\n",
    "    r23Mag = np.float64(np.linalg.norm(r23))\n",
    "    cosTheta = np.float64(min(max(np.dot(r21,r23)/(r21Mag*r23Mag),-1.0),1.0))\n",
    "    theta = np.float64(np.arccos(cosTheta))\n",
    "    energy = np.float64(0.5*kb*(r21Mag-x0)**2 + 0.5*kb*(r23Mag-x0)**2 + 0.5*kang*(theta-theta0)**2) \n",
    "#    print r21Mag, r23Mag, theta, energy\n",
    "    return energy\n",
    "\n",
    "def first_derivative(x,j,dx1):\n",
    "    dx = np.zeros(x.size,dtype=np.float64)\n",
    "    dx[j] = dx1\n",
    "    forward = x+dx\n",
    "    reverse = x-dx\n",
    "#    print forward\n",
    "#    print reverse\n",
    "    return (E(forward)-E(reverse))/(2*dx1)\n",
    "    \n",
    "def second_derivative(x,i,j,dx1):\n",
    "    dx = np.zeros(x.size,dtype=np.float64)\n",
    "    dx[i] = dx1\n",
    "    forward = x+dx\n",
    "    reverse = forward-2*dx\n",
    "    second_derivative = (first_derivative(forward,j,dx1)-first_derivative(reverse,j,dx1))/(2*dx1)\n",
    "    return second_derivative\n",
    "    \n",
    "o1 = np.array([-1.16,0,0],dtype=np.float64)\n",
    "c2 = np.array([0,0,0],dtype=np.float64)\n",
    "o3 = np.array([1.16,0,0],dtype=np.float64)\n",
    "coordinates = np.hstack((o1,c2,o3))\n",
    "print(\"Energy of initial positions:\",E(coordinates))\n",
    "masses = np.empty(coordinates.size,dtype=np.float64)\n",
    "masses[0:3] = 16.0E-3\n",
    "masses[3:6] = 12.0E-3\n",
    "masses[6:9] = 16.0E-3\n",
    "# we need to compute the Hessian matrix (3x3 second derivative matrix)\n",
    "H = np.empty((9,9),dtype=np.float64)\n",
    "dx1 = 1E-4\n",
    "for i in range(9):\n",
    "    for j in range(9):\n",
    "#        print i, j\n",
    "        H[i,j] = second_derivative(coordinates,i,j,dx1)/np.sqrt(masses[i]*masses[j])\n",
    "#        H[i,j] = first_derivative(coordinates,i,dx1)\n",
    "#print H\n",
    "e,v=np.linalg.eig(H)\n",
    "idx = e.argsort()   \n",
    "e = e[idx]\n",
    "v = v[:,idx]\n",
    "\n",
    "e = np.sqrt(e)*np.sqrt(4.184E23)/(3.0E10*2*np.pi)\n",
    "\n",
    "print e\n",
    "#print v[:,-1],v[:,-2],v[:,-3],v[:,-4]"
   ]
  },
  {
   "cell_type": "code",
   "execution_count": 7,
   "metadata": {},
   "outputs": [
    {
     "data": {
      "text/plain": [
       "(-2, 2)"
      ]
     },
     "execution_count": 7,
     "metadata": {},
     "output_type": "execute_result"
    },
    {
     "data": {
      "image/png": "[encoded data removed]",
      "text/plain": [
       "<matplotlib.figure.Figure at 0x10e1d7f10>"
      ]
     },
     "metadata": {},
     "output_type": "display_data"
    }
   ],
   "source": [
    "import matplotlib.pyplot as plt\n",
    "%matplotlib inline\n",
    "#ax.annotate(\"\", xy=(0.5, 0.5), xytext=(0, 0),arrowprops=dict(arrowstyle=\"->\"))\n",
    "plt.arrow(o1[0],o1[1],v[0,-1],v[1,-1],fc='r')\n",
    "plt.arrow(c2[0],c2[1],v[3,-1],v[4,-1],fc='r')\n",
    "plt.arrow(o3[0],o3[1],v[6,-1],v[7,-1],fc='r')\n",
    "plt.text(o1[0],o1[1],'O1')\n",
    "plt.text(c2[0],c2[1],'C2')\n",
    "plt.text(o3[0],o3[1],'O3')\n",
    "plt.xlim(-2,2)\n",
    "plt.ylim(-2,2)"
   ]
  },
  {
   "cell_type": "code",
   "execution_count": 8,
   "metadata": {},
   "outputs": [
    {
     "data": {
      "text/plain": [
       "(-2, 2)"
      ]
     },
     "execution_count": 8,
     "metadata": {},
     "output_type": "execute_result"
    },
    {
     "data": {
      "image/png": "[encoded data removed]",
      "text/plain": [
       "<matplotlib.figure.Figure at 0x1820650810>"
      ]
     },
     "metadata": {},
     "output_type": "display_data"
    }
   ],
   "source": [
    "import matplotlib.pyplot as plt\n",
    "plt.arrow(o1[0],o1[1],v[0,-2],v[1,-2],fc='r')\n",
    "plt.arrow(c2[0],c2[1],v[3,-2],v[4,-2],fc='r')\n",
    "plt.arrow(o3[0],o3[1],v[6,-2],v[7,-2],fc='r')\n",
    "plt.text(o1[0],o1[1],'O1')\n",
    "plt.text(c2[0],c2[1],'C2')\n",
    "plt.text(o3[0],o3[1],'O3')\n",
    "plt.xlim(-2,2)\n",
    "plt.ylim(-2,2)"
   ]
  },
  {
   "cell_type": "code",
   "execution_count": 9,
   "metadata": {},
   "outputs": [
    {
     "data": {
      "text/plain": [
       "(-2, 2)"
      ]
     },
     "execution_count": 9,
     "metadata": {},
     "output_type": "execute_result"
    },
    {
     "data": {
      "image/png": "[encoded data removed]",
      "text/plain": [
       "<matplotlib.figure.Figure at 0x1820772510>"
      ]
     },
     "metadata": {},
     "output_type": "display_data"
    }
   ],
   "source": [
    "# xz plane bend\n",
    "plt.arrow(o1[0],o1[1],v[0,-3],v[2,-3],fc='r')\n",
    "plt.arrow(c2[0],c2[1],v[3,-3],v[5,-3],fc='r')\n",
    "plt.arrow(o3[0],o3[1],v[6,-3],v[8,-3],fc='r')\n",
    "plt.text(o1[0],o1[1],'O1')\n",
    "plt.text(c2[0],c2[1],'C2')\n",
    "plt.text(o3[0],o3[1],'O3')\n",
    "plt.xlim(-2,2)\n",
    "plt.ylim(-2,2)"
   ]
  },
  {
   "cell_type": "code",
   "execution_count": 11,
   "metadata": {},
   "outputs": [
    {
     "data": {
      "text/plain": [
       "(-2, 2)"
      ]
     },
     "execution_count": 11,
     "metadata": {},
     "output_type": "execute_result"
    },
    {
     "data": {
      "image/png": "[encoded data removed]",
      "text/plain": [
       "<matplotlib.figure.Figure at 0x18206d4710>"
      ]
     },
     "metadata": {},
     "output_type": "display_data"
    }
   ],
   "source": [
    "# xy plane bend\n",
    "plt.arrow(o1[0],o1[1],v[0,-4],v[1,-4],fc='r')\n",
    "plt.arrow(c2[0],c2[1],v[3,-4],v[4,-4],fc='r')\n",
    "plt.arrow(o3[0],o3[1],v[6,-4],v[7,-4],fc='r')\n",
    "plt.text(o1[0],o1[1],'O1')\n",
    "plt.text(c2[0],c2[1],'C2')\n",
    "plt.text(o3[0],o3[1],'O3')\n",
    "plt.xlim(-2,2)\n",
    "plt.ylim(-2,2)"
   ]
  },
  {
   "cell_type": "code",
   "execution_count": null,
   "metadata": {},
   "outputs": [],
   "source": []
  }
 ],
 "metadata": {
  "kernelspec": {
   "display_name": "Python 2",
   "language": "python",
   "name": "python2"
  },
  "language_info": {
   "codemirror_mode": {
    "name": "ipython",
    "version": 2
   },
   "file_extension": ".py",
   "mimetype": "text/x-python",
   "name": "python",
   "nbconvert_exporter": "python",
   "pygments_lexer": "ipython2",
   "version": "2.7.14"
  }
 },
 "nbformat": 4,
 "nbformat_minor": 2
}
