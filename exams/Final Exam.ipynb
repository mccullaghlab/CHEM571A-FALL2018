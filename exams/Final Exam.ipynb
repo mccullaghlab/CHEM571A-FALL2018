{
 "cells": [
  {
   "cell_type": "markdown",
   "metadata": {},
   "source": [
    "# CHEM 571A Fall 2018 Final Exam"
   ]
  },
  {
   "cell_type": "markdown",
   "metadata": {},
   "source": [
    "1. Consider a three proton spin system with Hamiltonian\n",
    "\n",
    "   $\\hat{H} = -\\gamma B_0(1-\\sigma_A)\\hat{I}_{z1} -\\gamma B_0(1-\\sigma_A)\\hat{I}_{z2} -\\gamma B_0(1-\\sigma_B)\\hat{I}_{z3} + \\frac{hJ_{13}}{\\hbar^2}\\hat{I}_1\\cdot\\hat{I}_3 + \\frac{hJ_{23}}{\\hbar^2}\\hat{I}_2\\cdot\\hat{I}_3$\n",
    "\n",
    "  where spins 1 and 2 have the same chemical screening, $\\sigma_A$. Compute the frequencies of allowed transitions for this system in an NMR instrument.  Clearly state any assumptions made.  \n",
    "  \n",
    "2. The Helium cation (He$^+$) is a hydrogen-like \"atom\" in that it has a single electron interacting with a nucleus of charge $Z=2e$. \n",
    "\n",
    "   a. Write down the Hamiltonian (analogous to the hydrogen atom) for He$^+$ and explicitly define each variable.  Demonstrate that the wave function (solution to the Schrodinger equation) can be separated into radial dependent functions ($R(r)$) and angular dependent functions that are the spherical harmonics ($Y_l^m(\\theta,\\phi)$).\n",
    "   \n",
    "   b. The radial Schrodinger equation for a H$^+$ ion can be written as\n",
    "   \n",
    "   $\\left[-\\frac{\\hbar^2}{2m_er^2}\\frac{d}{dr}\\left(r^2\\frac{d}{dr}\\right) + V(r)\\right] R(r) = ER(r)$\n",
    "   \n",
    "      i. Solve for the variational solution to $E$ and $R(r)$ for trial wavefunction $\\phi(r) =  e^{-\\alpha_g r^2}$ for variational parameter $\\alpha_g$.  Compare the resulting energies and wavefunctions to the analytic solutions.\n",
    "      \n",
    "      ii. Solve for the variational solution to $E$ and $R(r)$ for trial wavefunction $\\psi(r) = e^{-\\alpha_f r}$ for variational parameter $\\alpha_f$.  Compare the resulting energies and wavefunctions to the analytic solutions.\n",
    "      \n",
    "   c. Using the variationally derived $\\alpha_g$ and $\\alpha_f$ above, we can define a more general set of basis functions\n",
    "   \n",
    "      i. $\\phi(r) = \\sum_{i=1}^N c_ie^{-\\alpha_g r^2/i}$ \n",
    "      \n",
    "      ii. $\\psi(r) = \\sum_{i=1}^N c_ie^{-\\alpha_fr/i}$\n",
    "   \n",
    "   Demonstrate, using a python code, that both set of basis functions can be used to converge the second energy level of the H$^+$ ion.  Using a specific convergence criteria (what is it?), how many basis functions of each type are required to converge $E_2$?  Does this make sense?"
   ]
  },
  {
   "cell_type": "code",
   "execution_count": null,
   "metadata": {},
   "outputs": [],
   "source": []
  }
 ],
 "metadata": {
  "kernelspec": {
   "display_name": "Python 2",
   "language": "python",
   "name": "python2"
  },
  "language_info": {
   "codemirror_mode": {
    "name": "ipython",
    "version": 2
   },
   "file_extension": ".py",
   "mimetype": "text/x-python",
   "name": "python",
   "nbconvert_exporter": "python",
   "pygments_lexer": "ipython2",
   "version": "2.7.14"
  }
 },
 "nbformat": 4,
 "nbformat_minor": 2
}
