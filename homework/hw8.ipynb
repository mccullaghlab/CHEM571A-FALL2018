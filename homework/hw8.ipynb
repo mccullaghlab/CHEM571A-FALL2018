{
 "cells": [
  {
   "cell_type": "markdown",
   "metadata": {},
   "source": [
    "# Chem 571A Fall 2018 Problem Set #8"
   ]
  },
  {
   "cell_type": "markdown",
   "metadata": {},
   "source": [
    "1. The Hamiltonian for two interacting nuclear spins in an applied magnetic field can be written as\n",
    "\n",
    "  $\\hat{H} = -\\gamma B_0(1-\\sigma_1)\\hat{I}_{z1} -\\gamma B_0(1-\\sigma_2)\\hat{I}_{z2} + \\frac{hJ_{12}}{\\hbar^2}\\hat{I}_1\\cdot\\hat{I}_2$\n",
    "  \n",
    "  where $B_0$ is the magnitude of the applied field, $\\sigma_1$ is the screening term for nuclei 1, $\\sigma_2$ is the screening term for nuclei 2, and $J_{12}$ is the coupling constant for the interaction between the two spins. For a situation that $J_{12} \\approx \\nu_0\\|\\sigma_1-\\sigma_2\\|$, consider a variational solution in which both spins have $I=\\frac{1}{2}$ and the four basis functions are the four two independent spin $1/2$ eigenfunctions ($\\alpha\\alpha$, $\\alpha\\beta$, $\\beta\\alpha$ and $\\beta\\beta$).\n",
    "  \n",
    "    a. Write out the expectation value of for the energy in trial wavefunction $\\psi = c_1\\phi_1 + c_2\\phi_2 + c_3\\phi_3 + c_4\\phi_4$, where $\\phi_1 = |\\alpha(1)\\alpha(2)\\rangle$, $\\phi_2 = |\\alpha(1)\\beta(2)\\rangle$, $\\phi_3 = |\\beta(1)\\alpha(2)\\rangle$ and $\\phi_4 = |\\beta(1)\\beta(2)\\rangle$.\n",
    "    \n",
    "    b. Demonstrate that minimizing the energy with respect to all four linear variational coefficients (${c_i}$) is equivalent to solving for the determinant of a $4\\times4$ matrix.  \n",
    "    \n",
    "    c. If we define $H_{ij} = \\langle \\phi_i|\\hat{H}|\\phi_j\\rangle$, compute (solve for analytically) $H_{22}$, $H_{13}$ and $H_{23}$.  \n",
    "  "
   ]
  },
  {
   "cell_type": "code",
   "execution_count": null,
   "metadata": {},
   "outputs": [],
   "source": []
  }
 ],
 "metadata": {
  "kernelspec": {
   "display_name": "Python 2",
   "language": "python",
   "name": "python2"
  },
  "language_info": {
   "codemirror_mode": {
    "name": "ipython",
    "version": 2
   },
   "file_extension": ".py",
   "mimetype": "text/x-python",
   "name": "python",
   "nbconvert_exporter": "python",
   "pygments_lexer": "ipython2",
   "version": "2.7.14"
  }
 },
 "nbformat": 4,
 "nbformat_minor": 2
}
