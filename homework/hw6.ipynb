{
 "cells": [
  {
   "cell_type": "markdown",
   "metadata": {},
   "source": [
    "# CHEM 571A Problem Set #6"
   ]
  },
  {
   "cell_type": "markdown",
   "metadata": {},
   "source": [
    "1. $\\hat{I}_x$, $\\hat{I}_y$, and $\\hat{I}_z$ are the angular momentum operators in three different directions for a nuclear spin.  Given that $\\hat{I}_+ = \\hat{I}_x + i\\hat{I}_y$ and $\\hat{I}_- = \\hat{I}_x - i\\hat{I}_y$, show that $\\hat{I}_z\\hat{I}_+ = \\hat{I}_+\\hat{I}_z + \\hbar\\hat{I}_+$ and $\\hat{I}_z\\hat{I}_- = \\hat{I}_-\\hat{I}_z - \\hbar\\hat{I}_-$.\n",
    "\n",
    "2. What magnetic field strength must be applied for C-13 spin transitions to occur at 90.0 MHz?  What magnetic field strength is necessary for proton spin transitions to occur at 270.0 MHz?"
   ]
  },
  {
   "cell_type": "code",
   "execution_count": null,
   "metadata": {},
   "outputs": [],
   "source": []
  }
 ],
 "metadata": {
  "kernelspec": {
   "display_name": "Python 2",
   "language": "python",
   "name": "python2"
  },
  "language_info": {
   "codemirror_mode": {
    "name": "ipython",
    "version": 2
   },
   "file_extension": ".py",
   "mimetype": "text/x-python",
   "name": "python",
   "nbconvert_exporter": "python",
   "pygments_lexer": "ipython2",
   "version": "2.7.14"
  }
 },
 "nbformat": 4,
 "nbformat_minor": 2
}
